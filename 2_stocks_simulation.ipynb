{
  "cells": [
    {
      "cell_type": "markdown",
      "metadata": {
        "id": "view-in-github",
        "colab_type": "text"
      },
      "source": [
        "<a href=\"https://colab.research.google.com/github/JMFerret/colab/blob/main/2_stocks_simulation.ipynb\" target=\"_parent\"><img src=\"https://colab.research.google.com/assets/colab-badge.svg\" alt=\"Open In Colab\"/></a>"
      ]
    },
    {
      "cell_type": "markdown",
      "metadata": {
        "id": "FMid9moSrbrr"
      },
      "source": [
        "# Simulating correlated price stocks in a multi-asset basket\n",
        "This notebook demonstrates how to simulate price paths in a basket containing >2 correlated assets. To achieve this, it applies [Cholesky decomposition](https://en.wikipedia.org/wiki/Cholesky_decomposition)  on the correlation matrix and generates an array of correlated random numbers. The notebook only serves a narrow demonstration purpose and as such lacks certain user flexiblities."
      ]
    },
    {
      "cell_type": "markdown",
      "metadata": {
        "id": "mwxAoV37rbsE"
      },
      "source": [
        "## Import libraries"
      ]
    },
    {
      "cell_type": "code",
      "execution_count": 93,
      "metadata": {
        "id": "oBAgi4rUrbsJ"
      },
      "outputs": [],
      "source": [
        "#Import libraries\n",
        "%matplotlib inline\n",
        "import numpy as np\n",
        "import matplotlib.pyplot as plt\n",
        "from math import sqrt, exp\n",
        "import pandas as pd"
      ]
    },
    {
      "cell_type": "markdown",
      "metadata": {
        "id": "Z_kTEZOqrbsN"
      },
      "source": [
        "## Set coefficient matrix\n",
        "Observe that the number of stocks and the coefficient matrix $\\Sigma$ are treated as constants. When adjusting manually, carefully check that the matrix dimensions align with the number of stocks and that the correlation matrix is semi-definite positive (requirement for Cholesky decomposition).\n",
        "\n",
        "For this example, volatilies and correlation coefficients for the [Big Tech companies](https://en.wikipedia.org/wiki/Big_Tech)  over 2020 were calculated."
      ]
    },
    {
      "cell_type": "code",
      "execution_count": 94,
      "metadata": {
        "id": "XWvelG0JrbsO"
      },
      "outputs": [],
      "source": [
        "# Manually input number of stocks\n",
        "NUMBER_OF_STOCKS = 2\n",
        "\n",
        "STOCK_TICKERS = [\"AAPL\", \"AMZN\"]\n",
        "\n",
        "vol = 0.8\n",
        "\n",
        "VOLATILITY_ARRAY =[vol, vol]\n",
        "\n",
        "correl = 0.1\n",
        "\n",
        "COEF_MATRIX = np.array([\n",
        "    [1.0, correl],\n",
        "    [correl, 1.0],\n",
        "])\n",
        "\n",
        "stock_data = {}\n",
        "stock_data['AAPL'] = {'Vol': vol, 'Weight': 0.5}\n",
        "stock_data['AMZN'] = {'Vol': vol, 'Weight': 0.5}\n"
      ]
    },
    {
      "cell_type": "markdown",
      "metadata": {
        "id": "b1-S-hLJrbsV"
      },
      "source": [
        "## Perform Cholesky decomposition\n",
        "This cell performs the Cholesky decomposition on the coefficient matrix $\\Sigma$, returning a matrix $R$ that satisfies $\\Sigma=R R^*$ and $R^*$ being the conjugate transpose of $R$. Note that the other computations are only for validation purposes."
      ]
    },
    {
      "cell_type": "code",
      "execution_count": 95,
      "metadata": {
        "colab": {
          "base_uri": "https://localhost:8080/"
        },
        "id": "EC7eI2mTrbsW",
        "outputId": "cdc04243-60c1-4a0d-c0c7-2c41212653cb"
      },
      "outputs": [
        {
          "output_type": "stream",
          "name": "stdout",
          "text": [
            "[[1.  0.1]\n",
            " [0.1 1. ]]\n"
          ]
        }
      ],
      "source": [
        "# Perform Cholesky decomposition on coefficient matrix\n",
        "R = np.linalg.cholesky(COEF_MATRIX)\n",
        "\n",
        "# Compute transpose conjugate (only for validation)\n",
        "RT = R.T.conj()\n",
        "\n",
        "# Reconstruct coefficient matrix from factorization (only for validation)\n",
        "print(np.dot(R, RT))"
      ]
    },
    {
      "cell_type": "markdown",
      "metadata": {
        "id": "OXdMvnz0rbsd"
      },
      "source": [
        "## Initialize simulation properties\n",
        "For simplicitly, all stocks have the same initial price $S_{n,0}$ and the same volatility $v_n$."
      ]
    },
    {
      "cell_type": "code",
      "execution_count": 96,
      "metadata": {
        "id": "ZiJGuCZsrbsf"
      },
      "outputs": [],
      "source": [
        "T = 252                                                  # Number of simulated days\n",
        "stock_price_array = np.full((NUMBER_OF_STOCKS,T), 100.0) # Stock price, first value is simulation input \n",
        "volatility_array = VOLATILITY_ARRAY                      # Volatility (annual, 0.01=1%)\n",
        "r = 0.001                                                # Risk-free rate (annual, 0.01=1%)\n",
        "dt = 1.0 / T                                             # Time increment (annualized)"
      ]
    },
    {
      "cell_type": "markdown",
      "metadata": {
        "id": "7jCGhEc_rbsi"
      },
      "source": [
        "## Run simulation\n",
        "For each time step, the cell generates a number of standard normal numbers (randomly drawn) and multiplies this with the $R$ matrix obtained from the Cholesky decomposition, yielding an epsilon array with correlated values. Mathematically, this procedure is denoted by $[\\epsilon_n]_{\\forall n \\in \\mathcal{N}} =R[x_n]_{\\forall n \\in \\mathcal{N}}$, with $\\mathcal{N}$ being the set of assets. The epsilons $\\epsilon_n$ are used as inputs for the boilerplate return formula as derived from the Black-Scholes model: $S_t=S_{t-1} * e^{\\left(r_f - \\frac{\\sigma ^2}{2}\\right)}  dt + \\sigma  \\sqrt{dt}  \\epsilon_n$"
      ]
    },
    {
      "cell_type": "code",
      "execution_count": 97,
      "metadata": {
        "id": "0GMOWb1zrbsk"
      },
      "outputs": [],
      "source": [
        "for t in range(1, T):\n",
        "    # Generate array of random standard normal draws\n",
        "    random_array = np.random.standard_normal(NUMBER_OF_STOCKS)\n",
        "    \n",
        "    # Multiply R (from factorization) with random_array to obtain correlated epsilons\n",
        "    epsilon_array = np.inner(random_array,R)\n",
        "\n",
        "    # Sample price path per stock\n",
        "    for n in range(NUMBER_OF_STOCKS):\n",
        "        dt = 1 / T \n",
        "        S = stock_price_array[n,t-1]\n",
        "        v = volatility_array[n]\n",
        "        epsilon = epsilon_array[n]\n",
        "        \n",
        "        # Generate new stock price\n",
        "        stock_price_array[n,t] = S * exp((r - 0.5 * v**2) * dt + v * sqrt(dt) * epsilon)"
      ]
    },
    {
      "cell_type": "markdown",
      "metadata": {
        "id": "UrZBFsQirbsm"
      },
      "source": [
        "## Plot simulated paths\n",
        "With the default settings, the price paths should be highly correlated."
      ]
    },
    {
      "cell_type": "code",
      "execution_count": 98,
      "metadata": {
        "colab": {
          "base_uri": "https://localhost:8080/",
          "height": 279
        },
        "id": "8y9gp4V9rbso",
        "outputId": "8f967881-9ae5-4f9d-b679-185614430622"
      },
      "outputs": [
        {
          "output_type": "display_data",
          "data": {
            "text/plain": [
              "<Figure size 432x288 with 1 Axes>"
            ],
            "image/png": "[encoded data removed]"
          },
          "metadata": {
            "needs_background": "light"
          }
        }
      ],
      "source": [
        "# Plot simulated price paths\n",
        "fig = plt.figure()\n",
        "ax = fig.add_subplot(1, 1, 1)\n",
        "array_day_plot = [t for t in range(T)]\n",
        "\n",
        "for n in range(NUMBER_OF_STOCKS):\n",
        "    ax.plot(array_day_plot, stock_price_array[n],\\\n",
        "                        label = '{}'.format(STOCK_TICKERS[n]))\n",
        "\n",
        "plt.grid()\n",
        "plt.xlabel('Day')\n",
        "plt.ylabel('Asset price')\n",
        "plt.legend(loc='best')\n",
        "\n",
        "plt.show()"
      ]
    },
    {
      "cell_type": "code",
      "source": [
        "weights = {} \n",
        "for stock in STOCK_TICKERS:\n",
        "  weights[stock] = 1 / NUMBER_OF_STOCKS\n",
        "\n",
        "index = []\n",
        "for t in range(T):\n",
        "  index.append(0)\n",
        "  for i, stock in enumerate(STOCK_TICKERS):\n",
        "    index[t] += weights[stock] * stock_price_array[i][t]\n"
      ],
      "metadata": {
        "id": "SJe533fSc-O6"
      },
      "execution_count": 99,
      "outputs": []
    },
    {
      "cell_type": "code",
      "source": [
        "fig = plt.figure()\n",
        "ax = fig.add_subplot(1, 1, 1)\n",
        "array_day_plot = [t for t in range(T)]\n",
        "\n",
        "for n in range(NUMBER_OF_STOCKS):\n",
        "    ax.plot(array_day_plot, stock_price_array[n],\\\n",
        "                        label = '{}'.format(STOCK_TICKERS[n]))\n",
        "    \n",
        "ax.plot(array_day_plot, index, label = 'Index')\n",
        "plt.grid()\n",
        "plt.xlabel('Day')\n",
        "plt.ylabel('Asset price')\n",
        "plt.legend(loc='best')\n",
        "\n",
        "plt.show()"
      ],
      "metadata": {
        "id": "zQxQ8O6ggb2p",
        "outputId": "17e7f625-3a01-49aa-d5a3-ba3f0e033314",
        "colab": {
          "base_uri": "https://localhost:8080/",
          "height": 279
        }
      },
      "execution_count": 100,
      "outputs": [
        {
          "output_type": "display_data",
          "data": {
            "text/plain": [
              "<Figure size 432x288 with 1 Axes>"
            ],
            "image/png": "[encoded data removed]"
          },
          "metadata": {
            "needs_background": "light"
          }
        }
      ]
    },
    {
      "cell_type": "code",
      "source": [
        "df = pd.DataFrame(stock_price_array)\n",
        "df = df.transpose()\n",
        "df = df.rename(columns={0: \"AAPL\", 1: \"AMZN\"})\n",
        "df[\"Index\"] = index\n",
        "cols = [\"AAPL\", \"AMZN\", \"Index\"]\n",
        "for col in cols:\n",
        "  df[col + '_returns'] = df[col].pct_change(1)\n",
        "\n",
        "df['Prtf_val_s'] = 0.0\n",
        "df['Prtf_val_e'] = 0.0\n",
        "\n",
        "df.at[0, 'Prtf_val_s'] +=  np.nan\n",
        "df.at[0, 'Prtf_val_e'] = 100\n",
        "\n",
        "for stock in stock_data.keys():\n",
        "  df[stock + '_wt_s'] = 0.0\n",
        "  df[stock + '_wt_e'] = 0.0\n",
        "  df[stock + '_val_s'] = 0.0\n",
        "  df[stock + '_val_e'] = 0.0\n",
        "  df[stock + '_nos_s'] = 0.0\n",
        "  df[stock + '_nos_e'] = 0.0\n",
        "  df.at[0, stock + '_wt_s'] = np.nan\n",
        "  df.at[0, stock + '_val_s'] = np.nan\n",
        "  df.at[0, stock + '_nos_s'] = np.nan\n",
        "  df.at[0, stock + '_wt_e'] = stock_data[stock]['Weight']\n",
        "  df.at[0, stock + '_val_e'] = df['Prtf_val_e'].iloc[0] * df[stock + '_wt_e'].iloc[0]\n",
        "  df.at[0, stock + '_nos_e'] = df[stock + '_val_e'].iloc[0] / df[stock].iloc[0]\n",
        "  \n",
        "\n",
        "for t in range(1, T):\n",
        "\n",
        "  df.at[t, 'Prtf_val_s'] = df['Prtf_val_e'].iloc[t-1]\n",
        "\n",
        "  rebalance = False\n",
        "  for stock in stock_data.keys():\n",
        "    threshold = stock_data[stock]['Vol'] / sqrt(252)\n",
        "    threshold = 1000\n",
        "    if abs(df[stock + '_returns'].iloc[t-1]) > threshold:\n",
        "      rebalance = True  # rebalance if one of the stocks moved more than its daily vol\n",
        "\n",
        "  for stock in stock_data.keys():\n",
        "    if rebalance:  # if rebalance\n",
        "      df.at[t, stock + '_wt_s'] = stock_data[stock]['Weight']  # start weight = initial weight\n",
        "      df.at[t, stock + '_val_s'] = df['Prtf_val_s'].iloc[t] * df[stock + '_wt_s'].iloc[t]  # start stock value = start prtf value * start weight\n",
        "      df.at[t, stock + '_nos_s'] = df[stock + '_val_s'].iloc[t] / df[stock].iloc[t-1]  # start number of shares = start stock value / prev close\n",
        "    \n",
        "    else:  # no rebalance\n",
        "      df.at[t, stock + '_wt_s'] = df[stock + '_wt_e'].iloc[t-1] # start weight = prev end weight\n",
        "      df.at[t, stock + '_val_s'] = df[stock + '_val_e'].iloc[t-1] # start stock val = prev end stock val\n",
        "      df.at[t, stock + '_nos_s'] = df[stock + '_nos_e'].iloc[t-1] # start nos = prev end nos\n",
        "\n",
        "    df.at[t, stock + '_nos_e'] = df[stock + '_nos_s'].iloc[t]  # end nos = start nos\n",
        "    df.at[t, stock + '_val_e'] = df[stock + '_nos_e'].iloc[t] * df[stock].iloc[t] # end stock val = end nos * close\n",
        "\n",
        "    df.at[t, 'Prtf_val_e'] += df[stock + '_val_e'].iloc[t]  # end prtf val = sum end stock val\n",
        "\n",
        "  for stock in stock_data.keys():\n",
        "    df.at[t, stock + '_wt_e'] = df[stock + '_val_e'].iloc[t] / df['Prtf_val_e'].iloc[t]  # end weight = end stock val / end prtf val\n",
        "\n"
      ],
      "metadata": {
        "id": "pe_9HMd-3W9e",
        "outputId": "98139c47-158e-4121-e474-c598622db169",
        "colab": {
          "base_uri": "https://localhost:8080/",
          "height": 488
        }
      },
      "execution_count": 111,
      "outputs": [
        {
          "output_type": "execute_result",
          "data": {
            "text/plain": [
              "           AAPL        AMZN       Index  AAPL_returns  AMZN_returns  \\\n",
              "0    100.000000  100.000000  100.000000           NaN           NaN   \n",
              "1     95.727787  106.050530  100.889159     -0.042722      0.060505   \n",
              "2     97.347143   98.551963   97.949553      0.016916     -0.070707   \n",
              "3     97.373951  100.503270   98.938611      0.000275      0.019800   \n",
              "4     97.737842   94.647606   96.192724      0.003737     -0.058263   \n",
              "..          ...         ...         ...           ...           ...   \n",
              "247  182.233608  122.306320  152.269964     -0.039426      0.094776   \n",
              "248  189.733068  125.864903  157.798986      0.041153      0.029096   \n",
              "249  183.035594  138.097746  160.566670     -0.035299      0.097190   \n",
              "250  191.434141  137.599466  164.516804      0.045885     -0.003608   \n",
              "251  191.715910  129.794375  160.755143      0.001472     -0.056723   \n",
              "\n",
              "     Index_returns  Prtf_val_s  Prtf_val_e  AAPL_wt_s  AAPL_wt_e  AAPL_val_s  \\\n",
              "0              NaN         NaN  100.000000        NaN   0.500000         NaN   \n",
              "1         0.008892  100.000000  100.889159   0.500000   0.474421   50.000000   \n",
              "2        -0.029137  100.889159   97.949553   0.474421   0.496925   47.863894   \n",
              "3         0.010098   97.949553   98.938611   0.496925   0.492093   48.673571   \n",
              "4        -0.027753   98.938611   96.192724   0.492093   0.508031   48.686975   \n",
              "..             ...         ...         ...        ...        ...         ...   \n",
              "247       0.010313  150.715666  152.269964   0.629375   0.598390   94.856602   \n",
              "248       0.036311  152.269964  157.798986   0.598390   0.601186   91.116804   \n",
              "249       0.017539  157.798986  160.566670   0.601186   0.569968   94.866534   \n",
              "250       0.024601  160.566670  164.516804   0.569968   0.581807   91.517797   \n",
              "251      -0.022865  164.516804  160.755143   0.581807   0.596298   95.717071   \n",
              "\n",
              "     AAPL_val_e  AAPL_nos_s  AAPL_nos_e  AMZN_wt_s  AMZN_wt_e  AMZN_val_s  \\\n",
              "0     50.000000         NaN         0.5        NaN   0.500000         NaN   \n",
              "1     47.863894         0.5         0.5   0.500000   0.525579   50.000000   \n",
              "2     48.673571         0.5         0.5   0.525579   0.503075   53.025265   \n",
              "3     48.686975         0.5         0.5   0.503075   0.507907   49.275982   \n",
              "4     48.868921         0.5         0.5   0.507907   0.491969   50.251635   \n",
              "..          ...         ...         ...        ...        ...         ...   \n",
              "247   91.116804         0.5         0.5   0.370625   0.401610   55.859065   \n",
              "248   94.866534         0.5         0.5   0.401610   0.398814   61.153160   \n",
              "249   91.517797         0.5         0.5   0.398814   0.430032   62.932451   \n",
              "250   95.717071         0.5         0.5   0.430032   0.418193   69.048873   \n",
              "251   95.857955         0.5         0.5   0.418193   0.403702   68.799733   \n",
              "\n",
              "     AMZN_val_e  AMZN_nos_s  AMZN_nos_e  \n",
              "0     50.000000         NaN         0.5  \n",
              "1     53.025265         0.5         0.5  \n",
              "2     49.275982         0.5         0.5  \n",
              "3     50.251635         0.5         0.5  \n",
              "4     47.323803         0.5         0.5  \n",
              "..          ...         ...         ...  \n",
              "247   61.153160         0.5         0.5  \n",
              "248   62.932451         0.5         0.5  \n",
              "249   69.048873         0.5         0.5  \n",
              "250   68.799733         0.5         0.5  \n",
              "251   64.897188         0.5         0.5  \n",
              "\n",
              "[252 rows x 20 columns]"
            ],
            "text/html": [
              "\n",
              "  <div id=\"df-65cbaf15-0c92-4b83-af27-be1e0fabed4d\">\n",
              "    <div class=\"colab-df-container\">\n",
              "      <div>\n",
              "<style scoped>\n",
              "    .dataframe tbody tr th:only-of-type {\n",
              "        vertical-align: middle;\n",
              "    }\n",
              "\n",
              "    .dataframe tbody tr th {\n",
              "        vertical-align: top;\n",
              "    }\n",
              "\n",
              "    .dataframe thead th {\n",
              "        text-align: right;\n",
              "    }\n",
              "</style>\n",
              "<table border=\"1\" class=\"dataframe\">\n",
              "  <thead>\n",
              "    <tr style=\"text-align: right;\">\n",
              "      <th></th>\n",
              "      <th>AAPL</th>\n",
              "      <th>AMZN</th>\n",
              "      <th>Index</th>\n",
              "      <th>AAPL_returns</th>\n",
              "      <th>AMZN_returns</th>\n",
              "      <th>Index_returns</th>\n",
              "      <th>Prtf_val_s</th>\n",
              "      <th>Prtf_val_e</th>\n",
              "      <th>AAPL_wt_s</th>\n",
              "      <th>AAPL_wt_e</th>\n",
              "      <th>AAPL_val_s</th>\n",
              "      <th>AAPL_val_e</th>\n",
              "      <th>AAPL_nos_s</th>\n",
              "      <th>AAPL_nos_e</th>\n",
              "      <th>AMZN_wt_s</th>\n",
              "      <th>AMZN_wt_e</th>\n",
              "      <th>AMZN_val_s</th>\n",
              "      <th>AMZN_val_e</th>\n",
              "      <th>AMZN_nos_s</th>\n",
              "      <th>AMZN_nos_e</th>\n",
              "    </tr>\n",
              "  </thead>\n",
              "  <tbody>\n",
              "    <tr>\n",
              "      <th>0</th>\n",
              "      <td>100.000000</td>\n",
              "      <td>100.000000</td>\n",
              "      <td>100.000000</td>\n",
              "      <td>NaN</td>\n",
              "      <td>NaN</td>\n",
              "      <td>NaN</td>\n",
              "      <td>NaN</td>\n",
              "      <td>100.000000</td>\n",
              "      <td>NaN</td>\n",
              "      <td>0.500000</td>\n",
              "      <td>NaN</td>\n",
              "      <td>50.000000</td>\n",
              "      <td>NaN</td>\n",
              "      <td>0.5</td>\n",
              "      <td>NaN</td>\n",
              "      <td>0.500000</td>\n",
              "      <td>NaN</td>\n",
              "      <td>50.000000</td>\n",
              "      <td>NaN</td>\n",
              "      <td>0.5</td>\n",
              "    </tr>\n",
              "    <tr>\n",
              "      <th>1</th>\n",
              "      <td>95.727787</td>\n",
              "      <td>106.050530</td>\n",
              "      <td>100.889159</td>\n",
              "      <td>-0.042722</td>\n",
              "      <td>0.060505</td>\n",
              "      <td>0.008892</td>\n",
              "      <td>100.000000</td>\n",
              "      <td>100.889159</td>\n",
              "      <td>0.500000</td>\n",
              "      <td>0.474421</td>\n",
              "      <td>50.000000</td>\n",
              "      <td>47.863894</td>\n",
              "      <td>0.5</td>\n",
              "      <td>0.5</td>\n",
              "      <td>0.500000</td>\n",
              "      <td>0.525579</td>\n",
              "      <td>50.000000</td>\n",
              "      <td>53.025265</td>\n",
              "      <td>0.5</td>\n",
              "      <td>0.5</td>\n",
              "    </tr>\n",
              "    <tr>\n",
              "      <th>2</th>\n",
              "      <td>97.347143</td>\n",
              "      <td>98.551963</td>\n",
              "      <td>97.949553</td>\n",
              "      <td>0.016916</td>\n",
              "      <td>-0.070707</td>\n",
              "      <td>-0.029137</td>\n",
              "      <td>100.889159</td>\n",
              "      <td>97.949553</td>\n",
              "      <td>0.474421</td>\n",
              "      <td>0.496925</td>\n",
              "      <td>47.863894</td>\n",
              "      <td>48.673571</td>\n",
              "      <td>0.5</td>\n",
              "      <td>0.5</td>\n",
              "      <td>0.525579</td>\n",
              "      <td>0.503075</td>\n",
              "      <td>53.025265</td>\n",
              "      <td>49.275982</td>\n",
              "      <td>0.5</td>\n",
              "      <td>0.5</td>\n",
              "    </tr>\n",
              "    <tr>\n",
              "      <th>3</th>\n",
              "      <td>97.373951</td>\n",
              "      <td>100.503270</td>\n",
              "      <td>98.938611</td>\n",
              "      <td>0.000275</td>\n",
              "      <td>0.019800</td>\n",
              "      <td>0.010098</td>\n",
              "      <td>97.949553</td>\n",
              "      <td>98.938611</td>\n",
              "      <td>0.496925</td>\n",
              "      <td>0.492093</td>\n",
              "      <td>48.673571</td>\n",
              "      <td>48.686975</td>\n",
              "      <td>0.5</td>\n",
              "      <td>0.5</td>\n",
              "      <td>0.503075</td>\n",
              "      <td>0.507907</td>\n",
              "      <td>49.275982</td>\n",
              "      <td>50.251635</td>\n",
              "      <td>0.5</td>\n",
              "      <td>0.5</td>\n",
              "    </tr>\n",
              "    <tr>\n",
              "      <th>4</th>\n",
              "      <td>97.737842</td>\n",
              "      <td>94.647606</td>\n",
              "      <td>96.192724</td>\n",
              "      <td>0.003737</td>\n",
              "      <td>-0.058263</td>\n",
              "      <td>-0.027753</td>\n",
              "      <td>98.938611</td>\n",
              "      <td>96.192724</td>\n",
              "      <td>0.492093</td>\n",
              "      <td>0.508031</td>\n",
              "      <td>48.686975</td>\n",
              "      <td>48.868921</td>\n",
              "      <td>0.5</td>\n",
              "      <td>0.5</td>\n",
              "      <td>0.507907</td>\n",
              "      <td>0.491969</td>\n",
              "      <td>50.251635</td>\n",
              "      <td>47.323803</td>\n",
              "      <td>0.5</td>\n",
              "      <td>0.5</td>\n",
              "    </tr>\n",
              "    <tr>\n",
              "      <th>...</th>\n",
              "      <td>...</td>\n",
              "      <td>...</td>\n",
              "      <td>...</td>\n",
              "      <td>...</td>\n",
              "      <td>...</td>\n",
              "      <td>...</td>\n",
              "      <td>...</td>\n",
              "      <td>...</td>\n",
              "      <td>...</td>\n",
              "      <td>...</td>\n",
              "      <td>...</td>\n",
              "      <td>...</td>\n",
              "      <td>...</td>\n",
              "      <td>...</td>\n",
              "      <td>...</td>\n",
              "      <td>...</td>\n",
              "      <td>...</td>\n",
              "      <td>...</td>\n",
              "      <td>...</td>\n",
              "      <td>...</td>\n",
              "    </tr>\n",
              "    <tr>\n",
              "      <th>247</th>\n",
              "      <td>182.233608</td>\n",
              "      <td>122.306320</td>\n",
              "      <td>152.269964</td>\n",
              "      <td>-0.039426</td>\n",
              "      <td>0.094776</td>\n",
              "      <td>0.010313</td>\n",
              "      <td>150.715666</td>\n",
              "      <td>152.269964</td>\n",
              "      <td>0.629375</td>\n",
              "      <td>0.598390</td>\n",
              "      <td>94.856602</td>\n",
              "      <td>91.116804</td>\n",
              "      <td>0.5</td>\n",
              "      <td>0.5</td>\n",
              "      <td>0.370625</td>\n",
              "      <td>0.401610</td>\n",
              "      <td>55.859065</td>\n",
              "      <td>61.153160</td>\n",
              "      <td>0.5</td>\n",
              "      <td>0.5</td>\n",
              "    </tr>\n",
              "    <tr>\n",
              "      <th>248</th>\n",
              "      <td>189.733068</td>\n",
              "      <td>125.864903</td>\n",
              "      <td>157.798986</td>\n",
              "      <td>0.041153</td>\n",
              "      <td>0.029096</td>\n",
              "      <td>0.036311</td>\n",
              "      <td>152.269964</td>\n",
              "      <td>157.798986</td>\n",
              "      <td>0.598390</td>\n",
              "      <td>0.601186</td>\n",
              "      <td>91.116804</td>\n",
              "      <td>94.866534</td>\n",
              "      <td>0.5</td>\n",
              "      <td>0.5</td>\n",
              "      <td>0.401610</td>\n",
              "      <td>0.398814</td>\n",
              "      <td>61.153160</td>\n",
              "      <td>62.932451</td>\n",
              "      <td>0.5</td>\n",
              "      <td>0.5</td>\n",
              "    </tr>\n",
              "    <tr>\n",
              "      <th>249</th>\n",
              "      <td>183.035594</td>\n",
              "      <td>138.097746</td>\n",
              "      <td>160.566670</td>\n",
              "      <td>-0.035299</td>\n",
              "      <td>0.097190</td>\n",
              "      <td>0.017539</td>\n",
              "      <td>157.798986</td>\n",
              "      <td>160.566670</td>\n",
              "      <td>0.601186</td>\n",
              "      <td>0.569968</td>\n",
              "      <td>94.866534</td>\n",
              "      <td>91.517797</td>\n",
              "      <td>0.5</td>\n",
              "      <td>0.5</td>\n",
              "      <td>0.398814</td>\n",
              "      <td>0.430032</td>\n",
              "      <td>62.932451</td>\n",
              "      <td>69.048873</td>\n",
              "      <td>0.5</td>\n",
              "      <td>0.5</td>\n",
              "    </tr>\n",
              "    <tr>\n",
              "      <th>250</th>\n",
              "      <td>191.434141</td>\n",
              "      <td>137.599466</td>\n",
              "      <td>164.516804</td>\n",
              "      <td>0.045885</td>\n",
              "      <td>-0.003608</td>\n",
              "      <td>0.024601</td>\n",
              "      <td>160.566670</td>\n",
              "      <td>164.516804</td>\n",
              "      <td>0.569968</td>\n",
              "      <td>0.581807</td>\n",
              "      <td>91.517797</td>\n",
              "      <td>95.717071</td>\n",
              "      <td>0.5</td>\n",
              "      <td>0.5</td>\n",
              "      <td>0.430032</td>\n",
              "      <td>0.418193</td>\n",
              "      <td>69.048873</td>\n",
              "      <td>68.799733</td>\n",
              "      <td>0.5</td>\n",
              "      <td>0.5</td>\n",
              "    </tr>\n",
              "    <tr>\n",
              "      <th>251</th>\n",
              "      <td>191.715910</td>\n",
              "      <td>129.794375</td>\n",
              "      <td>160.755143</td>\n",
              "      <td>0.001472</td>\n",
              "      <td>-0.056723</td>\n",
              "      <td>-0.022865</td>\n",
              "      <td>164.516804</td>\n",
              "      <td>160.755143</td>\n",
              "      <td>0.581807</td>\n",
              "      <td>0.596298</td>\n",
              "      <td>95.717071</td>\n",
              "      <td>95.857955</td>\n",
              "      <td>0.5</td>\n",
              "      <td>0.5</td>\n",
              "      <td>0.418193</td>\n",
              "      <td>0.403702</td>\n",
              "      <td>68.799733</td>\n",
              "      <td>64.897188</td>\n",
              "      <td>0.5</td>\n",
              "      <td>0.5</td>\n",
              "    </tr>\n",
              "  </tbody>\n",
              "</table>\n",
              "<p>252 rows × 20 columns</p>\n",
              "</div>\n",
              "      <button class=\"colab-df-convert\" onclick=\"convertToInteractive('df-65cbaf15-0c92-4b83-af27-be1e0fabed4d')\"\n",
              "              title=\"Convert this dataframe to an interactive table.\"\n",
              "              style=\"display:none;\">\n",
              "        \n",
              "  <svg xmlns=\"http://www.w3.org/2000/svg\" height=\"24px\"viewBox=\"0 0 24 24\"\n",
              "       width=\"24px\">\n",
              "    <path d=\"M0 0h24v24H0V0z\" fill=\"none\"/>\n",
              "    <path d=\"M18.56 5.44l.94 2.06.94-2.06 2.06-.94-2.06-.94-.94-2.06-.94 2.06-2.06.94zm-11 1L8.5 8.5l.94-2.06 2.06-.94-2.06-.94L8.5 2.5l-.94 2.06-2.06.94zm10 10l.94 2.06.94-2.06 2.06-.94-2.06-.94-.94-2.06-.94 2.06-2.06.94z\"/><path d=\"M17.41 7.96l-1.37-1.37c-.4-.4-.92-.59-1.43-.59-.52 0-1.04.2-1.43.59L10.3 9.45l-7.72 7.72c-.78.78-.78 2.05 0 2.83L4 21.41c.39.39.9.59 1.41.59.51 0 1.02-.2 1.41-.59l7.78-7.78 2.81-2.81c.8-.78.8-2.07 0-2.86zM5.41 20L4 18.59l7.72-7.72 1.47 1.35L5.41 20z\"/>\n",
              "  </svg>\n",
              "      </button>\n",
              "      \n",
              "  <style>\n",
              "    .colab-df-container {\n",
              "      display:flex;\n",
              "      flex-wrap:wrap;\n",
              "      gap: 12px;\n",
              "    }\n",
              "\n",
              "    .colab-df-convert {\n",
              "      background-color: #E8F0FE;\n",
              "      border: none;\n",
              "      border-radius: 50%;\n",
              "      cursor: pointer;\n",
              "      display: none;\n",
              "      fill: #1967D2;\n",
              "      height: 32px;\n",
              "      padding: 0 0 0 0;\n",
              "      width: 32px;\n",
              "    }\n",
              "\n",
              "    .colab-df-convert:hover {\n",
              "      background-color: #E2EBFA;\n",
              "      box-shadow: 0px 1px 2px rgba(60, 64, 67, 0.3), 0px 1px 3px 1px rgba(60, 64, 67, 0.15);\n",
              "      fill: #174EA6;\n",
              "    }\n",
              "\n",
              "    [theme=dark] .colab-df-convert {\n",
              "      background-color: #3B4455;\n",
              "      fill: #D2E3FC;\n",
              "    }\n",
              "\n",
              "    [theme=dark] .colab-df-convert:hover {\n",
              "      background-color: #434B5C;\n",
              "      box-shadow: 0px 1px 3px 1px rgba(0, 0, 0, 0.15);\n",
              "      filter: drop-shadow(0px 1px 2px rgba(0, 0, 0, 0.3));\n",
              "      fill: #FFFFFF;\n",
              "    }\n",
              "  </style>\n",
              "\n",
              "      <script>\n",
              "        const buttonEl =\n",
              "          document.querySelector('#df-65cbaf15-0c92-4b83-af27-be1e0fabed4d button.colab-df-convert');\n",
              "        buttonEl.style.display =\n",
              "          google.colab.kernel.accessAllowed ? 'block' : 'none';\n",
              "\n",
              "        async function convertToInteractive(key) {\n",
              "          const element = document.querySelector('#df-65cbaf15-0c92-4b83-af27-be1e0fabed4d');\n",
              "          const dataTable =\n",
              "            await google.colab.kernel.invokeFunction('convertToInteractive',\n",
              "                                                     [key], {});\n",
              "          if (!dataTable) return;\n",
              "\n",
              "          const docLinkHtml = 'Like what you see? Visit the ' +\n",
              "            '<a target=\"_blank\" href=https://colab.research.google.com/notebooks/data_table.ipynb>data table notebook</a>'\n",
              "            + ' to learn more about interactive tables.';\n",
              "          element.innerHTML = '';\n",
              "          dataTable['output_type'] = 'display_data';\n",
              "          await google.colab.output.renderOutput(dataTable, element);\n",
              "          const docLink = document.createElement('div');\n",
              "          docLink.innerHTML = docLinkHtml;\n",
              "          element.appendChild(docLink);\n",
              "        }\n",
              "      </script>\n",
              "    </div>\n",
              "  </div>\n",
              "  "
            ]
          },
          "metadata": {},
          "execution_count": 111
        }
      ]
    },
    {
      "cell_type": "code",
      "source": [
        "# Check realised vol\n",
        "for stock in stock_data.keys():\n",
        "  print(f\"{stock} Realised Vol: {100 * round(df[stock + '_returns'].dropna().std() * np.sqrt(T), 2)}\")\n",
        "  print(f\"{stock} Input Vol: {100 * round(stock_data[stock]['Vol'], 2)}\")\n",
        "  print(f\"{stock} Input Daily Vol: {100 * round(stock_data[stock]['Vol'] / sqrt(252), 2)}\")"
      ],
      "metadata": {
        "id": "U28AtHL8U0xX",
        "outputId": "d077cf3c-cca3-4801-f01b-7047be751db3",
        "colab": {
          "base_uri": "https://localhost:8080/"
        }
      },
      "execution_count": 107,
      "outputs": [
        {
          "output_type": "stream",
          "name": "stdout",
          "text": [
            "AAPL Realised Vol: 76.0\n",
            "AAPL Input Vol: 80.0\n",
            "AAPL Input Daily Vol: 5.0\n",
            "AMZN Realised Vol: 81.0\n",
            "AMZN Input Vol: 80.0\n",
            "AMZN Input Daily Vol: 5.0\n"
          ]
        }
      ]
    },
    {
      "cell_type": "code",
      "source": [
        "for stock in stock_data.keys():\n",
        "  print(stock)"
      ],
      "metadata": {
        "id": "dpFSyjr84k2o",
        "outputId": "84c55d86-acfe-4fe8-d9cf-16a9ce0e3e3b",
        "colab": {
          "base_uri": "https://localhost:8080/"
        }
      },
      "execution_count": 103,
      "outputs": [
        {
          "output_type": "stream",
          "name": "stdout",
          "text": [
            "AAPL\n",
            "AMZN\n"
          ]
        }
      ]
    },
    {
      "cell_type": "code",
      "source": [
        "stock_data['AAPL']['Vol'] / sqrt(252)"
      ],
      "metadata": {
        "id": "kmsqCUe5p9f9",
        "outputId": "7f18a63d-e5cd-4b8a-ef21-8d3636334539",
        "colab": {
          "base_uri": "https://localhost:8080/"
        }
      },
      "execution_count": 104,
      "outputs": [
        {
          "output_type": "execute_result",
          "data": {
            "text/plain": [
              "0.05039526306789696"
            ]
          },
          "metadata": {},
          "execution_count": 104
        }
      ]
    },
    {
      "cell_type": "code",
      "source": [
        "data = {'toto':[1,2], 'tata':[3,4]}\n",
        "dft = pd.DataFrame(data)\n",
        "for i in range(len(dft)):\n",
        "  print(dft['tata'].iloc[i])"
      ],
      "metadata": {
        "id": "miPFkySjomuV",
        "outputId": "aa3e004e-0ba7-40af-9084-2e3b2c5b5e0d",
        "colab": {
          "base_uri": "https://localhost:8080/"
        }
      },
      "execution_count": 105,
      "outputs": [
        {
          "output_type": "stream",
          "name": "stdout",
          "text": [
            "3\n",
            "4\n"
          ]
        }
      ]
    }
  ],
  "metadata": {
    "kernelspec": {
      "display_name": "Python 3",
      "language": "python",
      "name": "python3"
    },
    "language_info": {
      "codemirror_mode": {
        "name": "ipython",
        "version": 3
      },
      "file_extension": ".py",
      "mimetype": "text/x-python",
      "name": "python",
      "nbconvert_exporter": "python",
      "pygments_lexer": "ipython3",
      "version": "3.8.3"
    },
    "colab": {
      "provenance": [],
      "include_colab_link": true
    }
  },
  "nbformat": 4,
  "nbformat_minor": 0
}