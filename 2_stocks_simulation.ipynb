{
  "cells": [
    {
      "cell_type": "markdown",
      "metadata": {
        "id": "view-in-github",
        "colab_type": "text"
      },
      "source": [
        "<a href=\"https://colab.research.google.com/github/JMFerret/colab/blob/main/2_stocks_simulation.ipynb\" target=\"_parent\"><img src=\"https://colab.research.google.com/assets/colab-badge.svg\" alt=\"Open In Colab\"/></a>"
      ]
    },
    {
      "cell_type": "markdown",
      "metadata": {
        "id": "FMid9moSrbrr"
      },
      "source": [
        "# Simulating correlated price stocks in a multi-asset basket\n",
        "This notebook demonstrates how to simulate price paths in a basket containing >2 correlated assets. To achieve this, it applies [Cholesky decomposition](https://en.wikipedia.org/wiki/Cholesky_decomposition)  on the correlation matrix and generates an array of correlated random numbers. The notebook only serves a narrow demonstration purpose and as such lacks certain user flexiblities."
      ]
    },
    {
      "cell_type": "markdown",
      "metadata": {
        "id": "mwxAoV37rbsE"
      },
      "source": [
        "## Import libraries"
      ]
    },
    {
      "cell_type": "code",
      "execution_count": 128,
      "metadata": {
        "id": "oBAgi4rUrbsJ"
      },
      "outputs": [],
      "source": [
        "#Import libraries\n",
        "%matplotlib inline\n",
        "import numpy as np\n",
        "import matplotlib.pyplot as plt\n",
        "from math import sqrt, exp\n",
        "import pandas as pd"
      ]
    },
    {
      "cell_type": "markdown",
      "metadata": {
        "id": "Z_kTEZOqrbsN"
      },
      "source": [
        "## Set coefficient matrix\n",
        "Observe that the number of stocks and the coefficient matrix $\\Sigma$ are treated as constants. When adjusting manually, carefully check that the matrix dimensions align with the number of stocks and that the correlation matrix is semi-definite positive (requirement for Cholesky decomposition).\n",
        "\n",
        "For this example, volatilies and correlation coefficients for the [Big Tech companies](https://en.wikipedia.org/wiki/Big_Tech)  over 2020 were calculated."
      ]
    },
    {
      "cell_type": "code",
      "execution_count": 129,
      "metadata": {
        "id": "XWvelG0JrbsO"
      },
      "outputs": [],
      "source": [
        "# Manually input number of stocks\n",
        "NUMBER_OF_STOCKS = 2\n",
        "\n",
        "STOCK_TICKERS = [\"AAPL\", \"AMZN\"]\n",
        "\n",
        "vol = 0.8\n",
        "\n",
        "VOLATILITY_ARRAY =[vol, vol]\n",
        "\n",
        "correl = 0.1\n",
        "\n",
        "COEF_MATRIX = np.array([\n",
        "    [1.0, correl],\n",
        "    [correl, 1.0],\n",
        "])\n",
        "\n",
        "stock_data = {}\n",
        "stock_data['AAPL'] = {'Vol': vol, 'Weight': 0.5}\n",
        "stock_data['AMZN'] = {'Vol': vol, 'Weight': 0.5}\n"
      ]
    },
    {
      "cell_type": "markdown",
      "metadata": {
        "id": "b1-S-hLJrbsV"
      },
      "source": [
        "## Perform Cholesky decomposition\n",
        "This cell performs the Cholesky decomposition on the coefficient matrix $\\Sigma$, returning a matrix $R$ that satisfies $\\Sigma=R R^*$ and $R^*$ being the conjugate transpose of $R$. Note that the other computations are only for validation purposes."
      ]
    },
    {
      "cell_type": "code",
      "execution_count": 130,
      "metadata": {
        "colab": {
          "base_uri": "https://localhost:8080/"
        },
        "id": "EC7eI2mTrbsW",
        "outputId": "405161d5-2f90-4f6f-f276-f01dc975eaea"
      },
      "outputs": [
        {
          "output_type": "stream",
          "name": "stdout",
          "text": [
            "[[1.  0.1]\n",
            " [0.1 1. ]]\n"
          ]
        }
      ],
      "source": [
        "# Perform Cholesky decomposition on coefficient matrix\n",
        "R = np.linalg.cholesky(COEF_MATRIX)\n",
        "\n",
        "# Compute transpose conjugate (only for validation)\n",
        "RT = R.T.conj()\n",
        "\n",
        "# Reconstruct coefficient matrix from factorization (only for validation)\n",
        "print(np.dot(R, RT))"
      ]
    },
    {
      "cell_type": "markdown",
      "metadata": {
        "id": "OXdMvnz0rbsd"
      },
      "source": [
        "## Initialize simulation properties\n",
        "For simplicitly, all stocks have the same initial price $S_{n,0}$ and the same volatility $v_n$."
      ]
    },
    {
      "cell_type": "code",
      "execution_count": 131,
      "metadata": {
        "id": "ZiJGuCZsrbsf"
      },
      "outputs": [],
      "source": [
        "T = 252                                                  # Number of simulated days\n",
        "stock_price_array = np.full((NUMBER_OF_STOCKS,T), 100.0) # Stock price, first value is simulation input \n",
        "volatility_array = VOLATILITY_ARRAY                      # Volatility (annual, 0.01=1%)\n",
        "r = 0.001                                                # Risk-free rate (annual, 0.01=1%)\n",
        "dt = 1.0 / T                                             # Time increment (annualized)"
      ]
    },
    {
      "cell_type": "markdown",
      "metadata": {
        "id": "7jCGhEc_rbsi"
      },
      "source": [
        "## Run simulation\n",
        "For each time step, the cell generates a number of standard normal numbers (randomly drawn) and multiplies this with the $R$ matrix obtained from the Cholesky decomposition, yielding an epsilon array with correlated values. Mathematically, this procedure is denoted by $[\\epsilon_n]_{\\forall n \\in \\mathcal{N}} =R[x_n]_{\\forall n \\in \\mathcal{N}}$, with $\\mathcal{N}$ being the set of assets. The epsilons $\\epsilon_n$ are used as inputs for the boilerplate return formula as derived from the Black-Scholes model: $S_t=S_{t-1} * e^{\\left(r_f - \\frac{\\sigma ^2}{2}\\right)}  dt + \\sigma  \\sqrt{dt}  \\epsilon_n$"
      ]
    },
    {
      "cell_type": "code",
      "execution_count": 132,
      "metadata": {
        "id": "0GMOWb1zrbsk"
      },
      "outputs": [],
      "source": [
        "for t in range(1, T):\n",
        "    # Generate array of random standard normal draws\n",
        "    random_array = np.random.standard_normal(NUMBER_OF_STOCKS)\n",
        "    \n",
        "    # Multiply R (from factorization) with random_array to obtain correlated epsilons\n",
        "    epsilon_array = np.inner(random_array,R)\n",
        "\n",
        "    # Sample price path per stock\n",
        "    for n in range(NUMBER_OF_STOCKS):\n",
        "        dt = 1 / T \n",
        "        S = stock_price_array[n,t-1]\n",
        "        v = volatility_array[n]\n",
        "        epsilon = epsilon_array[n]\n",
        "        \n",
        "        # Generate new stock price\n",
        "        stock_price_array[n,t] = S * exp((r - 0.5 * v**2) * dt + v * sqrt(dt) * epsilon)"
      ]
    },
    {
      "cell_type": "markdown",
      "metadata": {
        "id": "UrZBFsQirbsm"
      },
      "source": [
        "## Plot simulated paths\n",
        "With the default settings, the price paths should be highly correlated."
      ]
    },
    {
      "cell_type": "code",
      "execution_count": 133,
      "metadata": {
        "colab": {
          "base_uri": "https://localhost:8080/",
          "height": 279
        },
        "id": "8y9gp4V9rbso",
        "outputId": "dc4ca689-3efe-4816-a317-54cb0362a67c"
      },
      "outputs": [
        {
          "output_type": "display_data",
          "data": {
            "text/plain": [
              "<Figure size 432x288 with 1 Axes>"
            ],
            "image/png": "[encoded data removed]"
          },
          "metadata": {
            "needs_background": "light"
          }
        }
      ],
      "source": [
        "# Plot simulated price paths\n",
        "fig = plt.figure()\n",
        "ax = fig.add_subplot(1, 1, 1)\n",
        "array_day_plot = [t for t in range(T)]\n",
        "\n",
        "for n in range(NUMBER_OF_STOCKS):\n",
        "    ax.plot(array_day_plot, stock_price_array[n],\\\n",
        "                        label = '{}'.format(STOCK_TICKERS[n]))\n",
        "\n",
        "plt.grid()\n",
        "plt.xlabel('Day')\n",
        "plt.ylabel('Asset price')\n",
        "plt.legend(loc='best')\n",
        "\n",
        "plt.show()"
      ]
    },
    {
      "cell_type": "code",
      "source": [
        "weights = {} \n",
        "for stock in STOCK_TICKERS:\n",
        "  weights[stock] = 1 / NUMBER_OF_STOCKS\n",
        "\n",
        "index = []\n",
        "for t in range(T):\n",
        "  index.append(0)\n",
        "  for i, stock in enumerate(STOCK_TICKERS):\n",
        "    index[t] += weights[stock] * stock_price_array[i][t]\n"
      ],
      "metadata": {
        "id": "SJe533fSc-O6"
      },
      "execution_count": 134,
      "outputs": []
    },
    {
      "cell_type": "code",
      "source": [
        "fig = plt.figure()\n",
        "ax = fig.add_subplot(1, 1, 1)\n",
        "array_day_plot = [t for t in range(T)]\n",
        "\n",
        "for n in range(NUMBER_OF_STOCKS):\n",
        "    ax.plot(array_day_plot, stock_price_array[n],\\\n",
        "                        label = '{}'.format(STOCK_TICKERS[n]))\n",
        "    \n",
        "ax.plot(array_day_plot, index, label = 'Index')\n",
        "plt.grid()\n",
        "plt.xlabel('Day')\n",
        "plt.ylabel('Asset price')\n",
        "plt.legend(loc='best')\n",
        "\n",
        "plt.show()"
      ],
      "metadata": {
        "id": "zQxQ8O6ggb2p",
        "outputId": "b6de068e-1f9d-43f9-db65-7b1bfd29dc2a",
        "colab": {
          "base_uri": "https://localhost:8080/",
          "height": 279
        }
      },
      "execution_count": 135,
      "outputs": [
        {
          "output_type": "display_data",
          "data": {
            "text/plain": [
              "<Figure size 432x288 with 1 Axes>"
            ],
            "image/png": "[encoded data removed]"
          },
          "metadata": {
            "needs_background": "light"
          }
        }
      ]
    },
    {
      "cell_type": "code",
      "source": [
        "def run_simul(threshold):\n",
        "\n",
        "  df = pd.DataFrame(stock_price_array)\n",
        "  df = df.transpose()\n",
        "  df = df.rename(columns={0: \"AAPL\", 1: \"AMZN\"})\n",
        "  df[\"Index\"] = index\n",
        "  cols = [\"AAPL\", \"AMZN\", \"Index\"]\n",
        "  for col in cols:\n",
        "    df[col + '_returns'] = df[col].pct_change(1)\n",
        "\n",
        "  df['Prtf_val_s'] = 0.0\n",
        "  df['Prtf_val_e'] = 0.0\n",
        "  df['Prtf_Index_diff'] = 0.0\n",
        "\n",
        "  df.at[0, 'Prtf_val_s'] +=  np.nan\n",
        "  df.at[0, 'Prtf_val_e'] = 100\n",
        "\n",
        "  for stock in stock_data.keys():\n",
        "    df[stock + '_wt_s'] = 0.0\n",
        "    df[stock + '_wt_e'] = 0.0\n",
        "    df[stock + '_val_s'] = 0.0\n",
        "    df[stock + '_val_e'] = 0.0\n",
        "    df[stock + '_nos_s'] = 0.0\n",
        "    df[stock + '_nos_e'] = 0.0\n",
        "    df.at[0, stock + '_wt_s'] = np.nan\n",
        "    df.at[0, stock + '_val_s'] = np.nan\n",
        "    df.at[0, stock + '_nos_s'] = np.nan\n",
        "    df.at[0, stock + '_wt_e'] = stock_data[stock]['Weight']\n",
        "    df.at[0, stock + '_val_e'] = df['Prtf_val_e'].iloc[0] * df[stock + '_wt_e'].iloc[0]\n",
        "    df.at[0, stock + '_nos_e'] = df[stock + '_val_e'].iloc[0] / df[stock].iloc[0]\n",
        "    \n",
        "\n",
        "  for t in range(1, T):\n",
        "    df.at[t, 'Prtf_val_s'] = df['Prtf_val_e'].iloc[t-1]\n",
        "\n",
        "    rebalance = False\n",
        "    for stock in stock_data.keys():\n",
        "      # threshold = stock_data[stock]['Vol'] / sqrt(252)\n",
        "      # threshold = 1000\n",
        "      if abs(df[stock + '_returns'].iloc[t-1]) > threshold:\n",
        "        rebalance = True  # rebalance if one of the stocks moved more than its daily vol\n",
        "\n",
        "    for stock in stock_data.keys():\n",
        "      if rebalance:  # if rebalance\n",
        "        df.at[t, stock + '_wt_s'] = stock_data[stock]['Weight']  # start weight = initial weight\n",
        "        df.at[t, stock + '_val_s'] = df['Prtf_val_s'].iloc[t] * df[stock + '_wt_s'].iloc[t]  # start stock value = start prtf value * start weight\n",
        "        df.at[t, stock + '_nos_s'] = df[stock + '_val_s'].iloc[t] / df[stock].iloc[t-1]  # start number of shares = start stock value / prev close\n",
        "      \n",
        "      else:  # no rebalance\n",
        "        df.at[t, stock + '_wt_s'] = df[stock + '_wt_e'].iloc[t-1] # start weight = prev end weight\n",
        "        df.at[t, stock + '_val_s'] = df[stock + '_val_e'].iloc[t-1] # start stock val = prev end stock val\n",
        "        df.at[t, stock + '_nos_s'] = df[stock + '_nos_e'].iloc[t-1] # start nos = prev end nos\n",
        "\n",
        "      df.at[t, stock + '_nos_e'] = df[stock + '_nos_s'].iloc[t]  # end nos = start nos\n",
        "      df.at[t, stock + '_val_e'] = df[stock + '_nos_e'].iloc[t] * df[stock].iloc[t] # end stock val = end nos * close\n",
        "\n",
        "      df.at[t, 'Prtf_val_e'] += df[stock + '_val_e'].iloc[t]  # end prtf val = sum end stock val\n",
        "\n",
        "    for stock in stock_data.keys():\n",
        "      df.at[t, stock + '_wt_e'] = df[stock + '_val_e'].iloc[t] / df['Prtf_val_e'].iloc[t]  # end weight = end stock val / end prtf val\n",
        "\n",
        "    df.at[t,'Prtf_Index_diff'] = df['Prtf_val_e'].iloc[t] - df['Index'].iloc[t]\n",
        "\n",
        "  return df\n",
        "\n",
        "thresh_range = [x/100 for x in range(30)]\n",
        "for threshold in thresh_range:\n",
        "  df = run_simul(threshold)\n",
        "  prtf_return = 100 * (df['Prtf_val_e'].iloc[T-1] / df['Prtf_val_e'].iloc[0] - 1)\n",
        "  index_return = 100 * (df['Index'].iloc[T-1] / df['Index'].iloc[0] - 1)\n",
        "  alpha = prtf_return - index_return\n",
        "  print(f\"Treshold: {threshold}, Prt: {round(prtf_return, 2)}, Index: {round(index_return, 2)}, Alpha: {round(alpha, 2)}\")\n",
        "# df\n"
      ],
      "metadata": {
        "id": "pe_9HMd-3W9e",
        "outputId": "72076958-c0cf-49db-9e4b-d2e19515e6c4",
        "colab": {
          "base_uri": "https://localhost:8080/"
        }
      },
      "execution_count": 167,
      "outputs": [
        {
          "output_type": "stream",
          "name": "stdout",
          "text": [
            "Treshold: 0.0, Prt: -39.82, Index: -0.9, Alpha: -38.92\n",
            "Treshold: 0.01, Prt: -39.8, Index: -0.9, Alpha: -38.9\n",
            "Treshold: 0.02, Prt: -39.87, Index: -0.9, Alpha: -38.97\n",
            "Treshold: 0.03, Prt: -40.01, Index: -0.9, Alpha: -39.11\n",
            "Treshold: 0.04, Prt: -40.33, Index: -0.9, Alpha: -39.43\n",
            "Treshold: 0.05, Prt: -40.3, Index: -0.9, Alpha: -39.4\n",
            "Treshold: 0.06, Prt: -38.08, Index: -0.9, Alpha: -37.18\n",
            "Treshold: 0.07, Prt: -36.45, Index: -0.9, Alpha: -35.55\n",
            "Treshold: 0.08, Prt: -35.88, Index: -0.9, Alpha: -34.98\n",
            "Treshold: 0.09, Prt: -34.5, Index: -0.9, Alpha: -33.6\n",
            "Treshold: 0.1, Prt: -38.5, Index: -0.9, Alpha: -37.6\n",
            "Treshold: 0.11, Prt: -36.73, Index: -0.9, Alpha: -35.83\n",
            "Treshold: 0.12, Prt: -37.32, Index: -0.9, Alpha: -36.42\n",
            "Treshold: 0.13, Prt: -29.31, Index: -0.9, Alpha: -28.41\n",
            "Treshold: 0.14, Prt: -29.4, Index: -0.9, Alpha: -28.5\n",
            "Treshold: 0.15, Prt: -30.5, Index: -0.9, Alpha: -29.6\n",
            "Treshold: 0.16, Prt: -30.5, Index: -0.9, Alpha: -29.6\n",
            "Treshold: 0.17, Prt: -0.9, Index: -0.9, Alpha: 0.0\n",
            "Treshold: 0.18, Prt: -0.9, Index: -0.9, Alpha: 0.0\n",
            "Treshold: 0.19, Prt: -0.9, Index: -0.9, Alpha: 0.0\n",
            "Treshold: 0.2, Prt: -0.9, Index: -0.9, Alpha: 0.0\n",
            "Treshold: 0.21, Prt: -0.9, Index: -0.9, Alpha: 0.0\n",
            "Treshold: 0.22, Prt: -0.9, Index: -0.9, Alpha: 0.0\n",
            "Treshold: 0.23, Prt: -0.9, Index: -0.9, Alpha: 0.0\n",
            "Treshold: 0.24, Prt: -0.9, Index: -0.9, Alpha: 0.0\n",
            "Treshold: 0.25, Prt: -0.9, Index: -0.9, Alpha: 0.0\n",
            "Treshold: 0.26, Prt: -0.9, Index: -0.9, Alpha: 0.0\n",
            "Treshold: 0.27, Prt: -0.9, Index: -0.9, Alpha: 0.0\n",
            "Treshold: 0.28, Prt: -0.9, Index: -0.9, Alpha: 0.0\n",
            "Treshold: 0.29, Prt: -0.9, Index: -0.9, Alpha: 0.0\n"
          ]
        }
      ]
    },
    {
      "cell_type": "code",
      "source": [
        "# Check realised vol\n",
        "for stock in stock_data.keys():\n",
        "  print(f\"{stock} Realised Vol: {100 * round(df[stock + '_returns'].dropna().std() * np.sqrt(T), 2)}\")\n",
        "  print(f\"{stock} Input Vol: {100 * round(stock_data[stock]['Vol'], 2)}\")\n",
        "  print(f\"{stock} Input Daily Vol: {100 * round(stock_data[stock]['Vol'] / sqrt(252), 2)}\")"
      ],
      "metadata": {
        "colab": {
          "base_uri": "https://localhost:8080/"
        },
        "id": "U28AtHL8U0xX",
        "outputId": "b9b42d5f-f0af-4e9c-cb9a-6368e40320e9"
      },
      "execution_count": 137,
      "outputs": [
        {
          "output_type": "stream",
          "name": "stdout",
          "text": [
            "AAPL Realised Vol: 76.0\n",
            "AAPL Input Vol: 80.0\n",
            "AAPL Input Daily Vol: 5.0\n",
            "AMZN Realised Vol: 81.0\n",
            "AMZN Input Vol: 80.0\n",
            "AMZN Input Daily Vol: 5.0\n"
          ]
        }
      ]
    },
    {
      "cell_type": "code",
      "source": [
        "for t in range(1, T):\n",
        "    print(t)"
      ],
      "metadata": {
        "id": "dpFSyjr84k2o",
        "outputId": "18c2d062-5326-4701-fa95-a7a8eb143f43",
        "colab": {
          "base_uri": "https://localhost:8080/"
        }
      },
      "execution_count": 151,
      "outputs": [
        {
          "output_type": "stream",
          "name": "stdout",
          "text": [
            "1\n",
            "2\n",
            "3\n",
            "4\n",
            "5\n",
            "6\n",
            "7\n",
            "8\n",
            "9\n",
            "10\n",
            "11\n",
            "12\n",
            "13\n",
            "14\n",
            "15\n",
            "16\n",
            "17\n",
            "18\n",
            "19\n",
            "20\n",
            "21\n",
            "22\n",
            "23\n",
            "24\n",
            "25\n",
            "26\n",
            "27\n",
            "28\n",
            "29\n",
            "30\n",
            "31\n",
            "32\n",
            "33\n",
            "34\n",
            "35\n",
            "36\n",
            "37\n",
            "38\n",
            "39\n",
            "40\n",
            "41\n",
            "42\n",
            "43\n",
            "44\n",
            "45\n",
            "46\n",
            "47\n",
            "48\n",
            "49\n",
            "50\n",
            "51\n",
            "52\n",
            "53\n",
            "54\n",
            "55\n",
            "56\n",
            "57\n",
            "58\n",
            "59\n",
            "60\n",
            "61\n",
            "62\n",
            "63\n",
            "64\n",
            "65\n",
            "66\n",
            "67\n",
            "68\n",
            "69\n",
            "70\n",
            "71\n",
            "72\n",
            "73\n",
            "74\n",
            "75\n",
            "76\n",
            "77\n",
            "78\n",
            "79\n",
            "80\n",
            "81\n",
            "82\n",
            "83\n",
            "84\n",
            "85\n",
            "86\n",
            "87\n",
            "88\n",
            "89\n",
            "90\n",
            "91\n",
            "92\n",
            "93\n",
            "94\n",
            "95\n",
            "96\n",
            "97\n",
            "98\n",
            "99\n",
            "100\n",
            "101\n",
            "102\n",
            "103\n",
            "104\n",
            "105\n",
            "106\n",
            "107\n",
            "108\n",
            "109\n",
            "110\n",
            "111\n",
            "112\n",
            "113\n",
            "114\n",
            "115\n",
            "116\n",
            "117\n",
            "118\n",
            "119\n",
            "120\n",
            "121\n",
            "122\n",
            "123\n",
            "124\n",
            "125\n",
            "126\n",
            "127\n",
            "128\n",
            "129\n",
            "130\n",
            "131\n",
            "132\n",
            "133\n",
            "134\n",
            "135\n",
            "136\n",
            "137\n",
            "138\n",
            "139\n",
            "140\n",
            "141\n",
            "142\n",
            "143\n",
            "144\n",
            "145\n",
            "146\n",
            "147\n",
            "148\n",
            "149\n",
            "150\n",
            "151\n",
            "152\n",
            "153\n",
            "154\n",
            "155\n",
            "156\n",
            "157\n",
            "158\n",
            "159\n",
            "160\n",
            "161\n",
            "162\n",
            "163\n",
            "164\n",
            "165\n",
            "166\n",
            "167\n",
            "168\n",
            "169\n",
            "170\n",
            "171\n",
            "172\n",
            "173\n",
            "174\n",
            "175\n",
            "176\n",
            "177\n",
            "178\n",
            "179\n",
            "180\n",
            "181\n",
            "182\n",
            "183\n",
            "184\n",
            "185\n",
            "186\n",
            "187\n",
            "188\n",
            "189\n",
            "190\n",
            "191\n",
            "192\n",
            "193\n",
            "194\n",
            "195\n",
            "196\n",
            "197\n",
            "198\n",
            "199\n",
            "200\n",
            "201\n",
            "202\n",
            "203\n",
            "204\n",
            "205\n",
            "206\n",
            "207\n",
            "208\n",
            "209\n",
            "210\n",
            "211\n",
            "212\n",
            "213\n",
            "214\n",
            "215\n",
            "216\n",
            "217\n",
            "218\n",
            "219\n",
            "220\n",
            "221\n",
            "222\n",
            "223\n",
            "224\n",
            "225\n",
            "226\n",
            "227\n",
            "228\n",
            "229\n",
            "230\n",
            "231\n",
            "232\n",
            "233\n",
            "234\n",
            "235\n",
            "236\n",
            "237\n",
            "238\n",
            "239\n",
            "240\n",
            "241\n",
            "242\n",
            "243\n",
            "244\n",
            "245\n",
            "246\n",
            "247\n",
            "248\n",
            "249\n",
            "250\n",
            "251\n"
          ]
        }
      ]
    },
    {
      "cell_type": "code",
      "source": [
        "stock_data['AAPL']['Vol'] / sqrt(252)"
      ],
      "metadata": {
        "id": "kmsqCUe5p9f9",
        "outputId": "59ee3e5c-2c55-4d2b-d1ef-7afb096f0e63",
        "colab": {
          "base_uri": "https://localhost:8080/"
        }
      },
      "execution_count": 139,
      "outputs": [
        {
          "output_type": "execute_result",
          "data": {
            "text/plain": [
              "0.05039526306789696"
            ]
          },
          "metadata": {},
          "execution_count": 139
        }
      ]
    },
    {
      "cell_type": "code",
      "source": [
        "data = {'toto':[1,2], 'tata':[3,4]}\n",
        "dft = pd.DataFrame(data)\n",
        "for i in range(len(dft)):\n",
        "  print(dft['tata'].iloc[i])"
      ],
      "metadata": {
        "id": "miPFkySjomuV",
        "outputId": "a4e7e119-00d8-42be-99a1-a6ce45c4e47a",
        "colab": {
          "base_uri": "https://localhost:8080/"
        }
      },
      "execution_count": 140,
      "outputs": [
        {
          "output_type": "stream",
          "name": "stdout",
          "text": [
            "3\n",
            "4\n"
          ]
        }
      ]
    }
  ],
  "metadata": {
    "kernelspec": {
      "display_name": "Python 3",
      "language": "python",
      "name": "python3"
    },
    "language_info": {
      "codemirror_mode": {
        "name": "ipython",
        "version": 3
      },
      "file_extension": ".py",
      "mimetype": "text/x-python",
      "name": "python",
      "nbconvert_exporter": "python",
      "pygments_lexer": "ipython3",
      "version": "3.8.3"
    },
    "colab": {
      "provenance": [],
      "include_colab_link": true
    }
  },
  "nbformat": 4,
  "nbformat_minor": 0
}