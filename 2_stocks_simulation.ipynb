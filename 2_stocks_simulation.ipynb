{
  "cells": [
    {
      "cell_type": "markdown",
      "metadata": {
        "id": "view-in-github",
        "colab_type": "text"
      },
      "source": [
        "<a href=\"https://colab.research.google.com/github/JMFerret/colab/blob/main/2_stocks_simulation.ipynb\" target=\"_parent\"><img src=\"https://colab.research.google.com/assets/colab-badge.svg\" alt=\"Open In Colab\"/></a>"
      ]
    },
    {
      "cell_type": "markdown",
      "metadata": {
        "id": "FMid9moSrbrr"
      },
      "source": [
        "# Simulating correlated price stocks in a multi-asset basket\n",
        "This notebook demonstrates how to simulate price paths in a basket containing >2 correlated assets. To achieve this, it applies [Cholesky decomposition](https://en.wikipedia.org/wiki/Cholesky_decomposition)  on the correlation matrix and generates an array of correlated random numbers. The notebook only serves a narrow demonstration purpose and as such lacks certain user flexiblities."
      ]
    },
    {
      "cell_type": "markdown",
      "metadata": {
        "id": "mwxAoV37rbsE"
      },
      "source": [
        "## Import libraries"
      ]
    },
    {
      "cell_type": "code",
      "execution_count": 23,
      "metadata": {
        "id": "oBAgi4rUrbsJ"
      },
      "outputs": [],
      "source": [
        "#Import libraries\n",
        "%matplotlib inline\n",
        "import numpy as np\n",
        "import matplotlib.pyplot as plt\n",
        "from math import sqrt, exp\n",
        "import pandas as pd"
      ]
    },
    {
      "cell_type": "markdown",
      "metadata": {
        "id": "Z_kTEZOqrbsN"
      },
      "source": [
        "## Set coefficient matrix\n",
        "Observe that the number of stocks and the coefficient matrix $\\Sigma$ are treated as constants. When adjusting manually, carefully check that the matrix dimensions align with the number of stocks and that the correlation matrix is semi-definite positive (requirement for Cholesky decomposition).\n",
        "\n",
        "For this example, volatilies and correlation coefficients for the [Big Tech companies](https://en.wikipedia.org/wiki/Big_Tech)  over 2020 were calculated."
      ]
    },
    {
      "cell_type": "code",
      "execution_count": 35,
      "metadata": {
        "id": "XWvelG0JrbsO"
      },
      "outputs": [],
      "source": [
        "# Manually input number of stocks\n",
        "NUMBER_OF_STOCKS = 2\n",
        "\n",
        "STOCK_TICKERS = [\"AAPL\", \"AMZN\"]\n",
        "\n",
        "VOLATILITY_ARRAY =[0.50, 0.50]\n",
        "\n",
        "correl = 0.9\n",
        "\n",
        "COEF_MATRIX = np.array([\n",
        "    [1.0, correl],\n",
        "    [correl, 1.0],\n",
        "])\n",
        "\n",
        "stock_data = {}\n",
        "stock_data['AAPL'] = {'Vol': 0.4, 'Weight': 0.5}\n",
        "stock_data['AMZN'] = {'Vol': 0.4, 'Weight': 0.5}\n"
      ]
    },
    {
      "cell_type": "markdown",
      "metadata": {
        "id": "b1-S-hLJrbsV"
      },
      "source": [
        "## Perform Cholesky decomposition\n",
        "This cell performs the Cholesky decomposition on the coefficient matrix $\\Sigma$, returning a matrix $R$ that satisfies $\\Sigma=R R^*$ and $R^*$ being the conjugate transpose of $R$. Note that the other computations are only for validation purposes."
      ]
    },
    {
      "cell_type": "code",
      "execution_count": 25,
      "metadata": {
        "colab": {
          "base_uri": "https://localhost:8080/"
        },
        "id": "EC7eI2mTrbsW",
        "outputId": "37372a86-0515-4495-e97d-06a164620e24"
      },
      "outputs": [
        {
          "output_type": "stream",
          "name": "stdout",
          "text": [
            "[[1.  0.9]\n",
            " [0.9 1. ]]\n"
          ]
        }
      ],
      "source": [
        "# Perform Cholesky decomposition on coefficient matrix\n",
        "R = np.linalg.cholesky(COEF_MATRIX)\n",
        "\n",
        "# Compute transpose conjugate (only for validation)\n",
        "RT = R.T.conj()\n",
        "\n",
        "# Reconstruct coefficient matrix from factorization (only for validation)\n",
        "print(np.dot(R, RT))"
      ]
    },
    {
      "cell_type": "markdown",
      "metadata": {
        "id": "OXdMvnz0rbsd"
      },
      "source": [
        "## Initialize simulation properties\n",
        "For simplicitly, all stocks have the same initial price $S_{n,0}$ and the same volatility $v_n$."
      ]
    },
    {
      "cell_type": "code",
      "execution_count": 26,
      "metadata": {
        "id": "ZiJGuCZsrbsf"
      },
      "outputs": [],
      "source": [
        "T = 252                                                  # Number of simulated days\n",
        "stock_price_array = np.full((NUMBER_OF_STOCKS,T), 100.0) # Stock price, first value is simulation input \n",
        "volatility_array = VOLATILITY_ARRAY                      # Volatility (annual, 0.01=1%)\n",
        "r = 0.001                                                # Risk-free rate (annual, 0.01=1%)\n",
        "dt = 1.0 / T                                             # Time increment (annualized)"
      ]
    },
    {
      "cell_type": "markdown",
      "metadata": {
        "id": "7jCGhEc_rbsi"
      },
      "source": [
        "## Run simulation\n",
        "For each time step, the cell generates a number of standard normal numbers (randomly drawn) and multiplies this with the $R$ matrix obtained from the Cholesky decomposition, yielding an epsilon array with correlated values. Mathematically, this procedure is denoted by $[\\epsilon_n]_{\\forall n \\in \\mathcal{N}} =R[x_n]_{\\forall n \\in \\mathcal{N}}$, with $\\mathcal{N}$ being the set of assets. The epsilons $\\epsilon_n$ are used as inputs for the boilerplate return formula as derived from the Black-Scholes model: $S_t=S_{t-1} * e^{\\left(r_f - \\frac{\\sigma ^2}{2}\\right)}  dt + \\sigma  \\sqrt{dt}  \\epsilon_n$"
      ]
    },
    {
      "cell_type": "code",
      "execution_count": 27,
      "metadata": {
        "id": "0GMOWb1zrbsk"
      },
      "outputs": [],
      "source": [
        "for t in range(1, T):\n",
        "    # Generate array of random standard normal draws\n",
        "    random_array = np.random.standard_normal(NUMBER_OF_STOCKS)\n",
        "    \n",
        "    # Multiply R (from factorization) with random_array to obtain correlated epsilons\n",
        "    epsilon_array = np.inner(random_array,R)\n",
        "\n",
        "    # Sample price path per stock\n",
        "    for n in range(NUMBER_OF_STOCKS):\n",
        "        dt = 1 / T \n",
        "        S = stock_price_array[n,t-1]\n",
        "        v = volatility_array[n]\n",
        "        epsilon = epsilon_array[n]\n",
        "        \n",
        "        # Generate new stock price\n",
        "        stock_price_array[n,t] = S * exp((r - 0.5 * v**2) * dt + v * sqrt(dt) * epsilon)"
      ]
    },
    {
      "cell_type": "markdown",
      "metadata": {
        "id": "UrZBFsQirbsm"
      },
      "source": [
        "## Plot simulated paths\n",
        "With the default settings, the price paths should be highly correlated."
      ]
    },
    {
      "cell_type": "code",
      "execution_count": 28,
      "metadata": {
        "colab": {
          "base_uri": "https://localhost:8080/",
          "height": 279
        },
        "id": "8y9gp4V9rbso",
        "outputId": "56f5215c-c79a-4a19-d5ec-5fc884b61626"
      },
      "outputs": [
        {
          "output_type": "display_data",
          "data": {
            "text/plain": [
              "<Figure size 432x288 with 1 Axes>"
            ],
            "image/png": "[encoded data removed]"
          },
          "metadata": {
            "needs_background": "light"
          }
        }
      ],
      "source": [
        "# Plot simulated price paths\n",
        "fig = plt.figure()\n",
        "ax = fig.add_subplot(1, 1, 1)\n",
        "array_day_plot = [t for t in range(T)]\n",
        "\n",
        "for n in range(NUMBER_OF_STOCKS):\n",
        "    ax.plot(array_day_plot, stock_price_array[n],\\\n",
        "                        label = '{}'.format(STOCK_TICKERS[n]))\n",
        "\n",
        "plt.grid()\n",
        "plt.xlabel('Day')\n",
        "plt.ylabel('Asset price')\n",
        "plt.legend(loc='best')\n",
        "\n",
        "plt.show()"
      ]
    },
    {
      "cell_type": "code",
      "source": [
        "weights = {} \n",
        "for stock in STOCK_TICKERS:\n",
        "  weights[stock] = 1 / NUMBER_OF_STOCKS\n",
        "\n",
        "index = []\n",
        "for t in range(T):\n",
        "  index.append(0)\n",
        "  for i, stock in enumerate(STOCK_TICKERS):\n",
        "    index[t] += weights[stock] * stock_price_array[i][t]\n"
      ],
      "metadata": {
        "id": "SJe533fSc-O6"
      },
      "execution_count": 29,
      "outputs": []
    },
    {
      "cell_type": "code",
      "source": [
        "fig = plt.figure()\n",
        "ax = fig.add_subplot(1, 1, 1)\n",
        "array_day_plot = [t for t in range(T)]\n",
        "\n",
        "for n in range(NUMBER_OF_STOCKS):\n",
        "    ax.plot(array_day_plot, stock_price_array[n],\\\n",
        "                        label = '{}'.format(STOCK_TICKERS[n]))\n",
        "    \n",
        "ax.plot(array_day_plot, index, label = 'Index')\n",
        "plt.grid()\n",
        "plt.xlabel('Day')\n",
        "plt.ylabel('Asset price')\n",
        "plt.legend(loc='best')\n",
        "\n",
        "plt.show()"
      ],
      "metadata": {
        "id": "zQxQ8O6ggb2p",
        "outputId": "79e6f66b-bf5c-4994-bdbc-0a33925f290c",
        "colab": {
          "base_uri": "https://localhost:8080/",
          "height": 279
        }
      },
      "execution_count": 30,
      "outputs": [
        {
          "output_type": "display_data",
          "data": {
            "text/plain": [
              "<Figure size 432x288 with 1 Axes>"
            ],
            "image/png": "[encoded data removed]"
          },
          "metadata": {
            "needs_background": "light"
          }
        }
      ]
    },
    {
      "cell_type": "code",
      "source": [
        "df = pd.DataFrame(stock_price_array)\n",
        "df = df.transpose()\n",
        "df = df.rename(columns={0: \"AAPL\", 1: \"AMZN\"})\n",
        "df[\"Index\"] = index\n",
        "cols = [\"AAPL\", \"AMZN\", \"Index\"]\n",
        "for col in cols:\n",
        "  df[col + '_returns'] = df[col].pct_change(1)\n",
        "\n",
        "# Check realised vol\n",
        "# for col in cols:\n",
        "#   print(df[col + '_returns'].dropna().std() * np.sqrt(T))\n",
        "\n",
        "df['Prtf_val_s'] = 0.0\n",
        "df['Prtf_val_e'] = 0.0\n",
        "\n",
        "for stock in STOCK_TICKERS:\n",
        "  df[stock + '_wt_s'] = 0.0\n",
        "  df[stock + '_val_s'] = 0.0\n",
        "  df[stock + '_nos_s'] = 0.0\n",
        "  df[stock + '_wt_e'] = 0.0\n",
        "  df[stock + '_val_e'] = 0.0\n",
        "  df[stock + '_nos_e'] = 0.0\n",
        "  df.at[0, stock + '_wt_s'] =  stock_data[stock]['Weight']\n",
        "  df.at[0, stock + '_val_s'] =  df[stock].iloc[0] * stock_data[stock]['Weight']\n",
        "  df.at[0, stock + '_nos_s'] = df[stock + '_val_s'].iloc[0] / df[stock].iloc[0]\n",
        "  df.at[0, 'Prtf_val_s'] +=  df[stock + '_val_s'].iloc[0]\n",
        "\n",
        "for t in range(1, T):\n",
        "  rebalance = False\n",
        "  for stock in STOCK_TICKERS:\n",
        "    if abs(df[stock + '_val_s'].iloc[t-1]) > stock_data[stock]['Vol'] / sqrt(252):\n",
        "      rebalance = True\n",
        "  for stock in STOCK_TICKERS:\n",
        "    if rebalance:\n",
        "      df.at[t, stock + '_val_s'] = df['Prtf_val_s'].iloc[t-1] * stock_data[stock]['Weight']\n",
        "      df.at[t, stock + '_nos_s'] = df[stock + '_val_s'].iloc[t] / df[stock].iloc[t]\n",
        "    else: \n",
        "      df.at[t, stock + '_nos_s'] = df[stock + '_nos_s'].iloc[t-1]\n",
        "      df.at[t, stock + '_val_s'] = df[stock].iloc[t] * df[stock + '_nos_s'].iloc[t-1]\n",
        "    df.at[t, 'Prtf_val_s'] += df[stock + '_val_s'].iloc[t]\n",
        "  for stock in STOCK_TICKERS:\n",
        "    df.at[t, stock + '_wt_s'] = df[stock + '_val_s'].iloc[t] / df['Prtf_val_s'].iloc[t]\n",
        "\n",
        "\n",
        "df"
      ],
      "metadata": {
        "id": "pe_9HMd-3W9e",
        "outputId": "d9cae7aa-8d81-445d-ccd2-2d7128d62839",
        "colab": {
          "base_uri": "https://localhost:8080/",
          "height": 488
        }
      },
      "execution_count": 48,
      "outputs": [
        {
          "output_type": "execute_result",
          "data": {
            "text/plain": [
              "           AAPL        AMZN       Index  AAPL_returns  AMZN_returns  \\\n",
              "0    100.000000  100.000000  100.000000           NaN           NaN   \n",
              "1    102.568949  101.676486  102.122718      0.025689      0.016765   \n",
              "2     99.832762   98.584546   99.208654     -0.026677     -0.030410   \n",
              "3     99.725243   96.966246   98.345745     -0.001077     -0.016415   \n",
              "4    100.851526   98.542665   99.697095      0.011294      0.016257   \n",
              "..          ...         ...         ...           ...           ...   \n",
              "247  111.628553   81.525918   96.577236     -0.025213     -0.019906   \n",
              "248  118.005378   84.490540  101.247959      0.057125      0.036364   \n",
              "249  114.135848   83.145010   98.640429     -0.032791     -0.015925   \n",
              "250  116.017593   85.808854  100.913224      0.016487      0.032039   \n",
              "251  112.302066   82.928796   97.615431     -0.032026     -0.033564   \n",
              "\n",
              "     Index_returns  Prtf_val_s  Prtf_val_e  AAPL_wt_s  AAPL_val_s  AAPL_nos_s  \\\n",
              "0              NaN       100.0         0.0        0.5        50.0    0.500000   \n",
              "1         0.021227       100.0         0.0        0.5        50.0    0.487477   \n",
              "2        -0.028535       100.0         0.0        0.5        50.0    0.500838   \n",
              "3        -0.008698       100.0         0.0        0.5        50.0    0.501378   \n",
              "4         0.013741       100.0         0.0        0.5        50.0    0.495778   \n",
              "..             ...         ...         ...        ...         ...         ...   \n",
              "247      -0.022980       100.0         0.0        0.5        50.0    0.447914   \n",
              "248       0.048363       100.0         0.0        0.5        50.0    0.423710   \n",
              "249      -0.025754       100.0         0.0        0.5        50.0    0.438074   \n",
              "250       0.023041       100.0         0.0        0.5        50.0    0.430969   \n",
              "251      -0.032679       100.0         0.0        0.5        50.0    0.445228   \n",
              "\n",
              "     AAPL_wt_e  AAPL_val_e  AAPL_nos_e  AMZN_wt_s  AMZN_val_s  AMZN_nos_s  \\\n",
              "0          0.0         0.0         0.0        0.5        50.0    0.500000   \n",
              "1          0.0         0.0         0.0        0.5        50.0    0.491756   \n",
              "2          0.0         0.0         0.0        0.5        50.0    0.507179   \n",
              "3          0.0         0.0         0.0        0.5        50.0    0.515643   \n",
              "4          0.0         0.0         0.0        0.5        50.0    0.507394   \n",
              "..         ...         ...         ...        ...         ...         ...   \n",
              "247        0.0         0.0         0.0        0.5        50.0    0.613302   \n",
              "248        0.0         0.0         0.0        0.5        50.0    0.591782   \n",
              "249        0.0         0.0         0.0        0.5        50.0    0.601359   \n",
              "250        0.0         0.0         0.0        0.5        50.0    0.582690   \n",
              "251        0.0         0.0         0.0        0.5        50.0    0.602927   \n",
              "\n",
              "     AMZN_wt_e  AMZN_val_e  AMZN_nos_e  \n",
              "0          0.0         0.0         0.0  \n",
              "1          0.0         0.0         0.0  \n",
              "2          0.0         0.0         0.0  \n",
              "3          0.0         0.0         0.0  \n",
              "4          0.0         0.0         0.0  \n",
              "..         ...         ...         ...  \n",
              "247        0.0         0.0         0.0  \n",
              "248        0.0         0.0         0.0  \n",
              "249        0.0         0.0         0.0  \n",
              "250        0.0         0.0         0.0  \n",
              "251        0.0         0.0         0.0  \n",
              "\n",
              "[252 rows x 20 columns]"
            ],
            "text/html": [
              "\n",
              "  <div id=\"df-20b199e6-915f-4937-a66d-c4fd6dbf9bd3\">\n",
              "    <div class=\"colab-df-container\">\n",
              "      <div>\n",
              "<style scoped>\n",
              "    .dataframe tbody tr th:only-of-type {\n",
              "        vertical-align: middle;\n",
              "    }\n",
              "\n",
              "    .dataframe tbody tr th {\n",
              "        vertical-align: top;\n",
              "    }\n",
              "\n",
              "    .dataframe thead th {\n",
              "        text-align: right;\n",
              "    }\n",
              "</style>\n",
              "<table border=\"1\" class=\"dataframe\">\n",
              "  <thead>\n",
              "    <tr style=\"text-align: right;\">\n",
              "      <th></th>\n",
              "      <th>AAPL</th>\n",
              "      <th>AMZN</th>\n",
              "      <th>Index</th>\n",
              "      <th>AAPL_returns</th>\n",
              "      <th>AMZN_returns</th>\n",
              "      <th>Index_returns</th>\n",
              "      <th>Prtf_val_s</th>\n",
              "      <th>Prtf_val_e</th>\n",
              "      <th>AAPL_wt_s</th>\n",
              "      <th>AAPL_val_s</th>\n",
              "      <th>AAPL_nos_s</th>\n",
              "      <th>AAPL_wt_e</th>\n",
              "      <th>AAPL_val_e</th>\n",
              "      <th>AAPL_nos_e</th>\n",
              "      <th>AMZN_wt_s</th>\n",
              "      <th>AMZN_val_s</th>\n",
              "      <th>AMZN_nos_s</th>\n",
              "      <th>AMZN_wt_e</th>\n",
              "      <th>AMZN_val_e</th>\n",
              "      <th>AMZN_nos_e</th>\n",
              "    </tr>\n",
              "  </thead>\n",
              "  <tbody>\n",
              "    <tr>\n",
              "      <th>0</th>\n",
              "      <td>100.000000</td>\n",
              "      <td>100.000000</td>\n",
              "      <td>100.000000</td>\n",
              "      <td>NaN</td>\n",
              "      <td>NaN</td>\n",
              "      <td>NaN</td>\n",
              "      <td>100.0</td>\n",
              "      <td>0.0</td>\n",
              "      <td>0.5</td>\n",
              "      <td>50.0</td>\n",
              "      <td>0.500000</td>\n",
              "      <td>0.0</td>\n",
              "      <td>0.0</td>\n",
              "      <td>0.0</td>\n",
              "      <td>0.5</td>\n",
              "      <td>50.0</td>\n",
              "      <td>0.500000</td>\n",
              "      <td>0.0</td>\n",
              "      <td>0.0</td>\n",
              "      <td>0.0</td>\n",
              "    </tr>\n",
              "    <tr>\n",
              "      <th>1</th>\n",
              "      <td>102.568949</td>\n",
              "      <td>101.676486</td>\n",
              "      <td>102.122718</td>\n",
              "      <td>0.025689</td>\n",
              "      <td>0.016765</td>\n",
              "      <td>0.021227</td>\n",
              "      <td>100.0</td>\n",
              "      <td>0.0</td>\n",
              "      <td>0.5</td>\n",
              "      <td>50.0</td>\n",
              "      <td>0.487477</td>\n",
              "      <td>0.0</td>\n",
              "      <td>0.0</td>\n",
              "      <td>0.0</td>\n",
              "      <td>0.5</td>\n",
              "      <td>50.0</td>\n",
              "      <td>0.491756</td>\n",
              "      <td>0.0</td>\n",
              "      <td>0.0</td>\n",
              "      <td>0.0</td>\n",
              "    </tr>\n",
              "    <tr>\n",
              "      <th>2</th>\n",
              "      <td>99.832762</td>\n",
              "      <td>98.584546</td>\n",
              "      <td>99.208654</td>\n",
              "      <td>-0.026677</td>\n",
              "      <td>-0.030410</td>\n",
              "      <td>-0.028535</td>\n",
              "      <td>100.0</td>\n",
              "      <td>0.0</td>\n",
              "      <td>0.5</td>\n",
              "      <td>50.0</td>\n",
              "      <td>0.500838</td>\n",
              "      <td>0.0</td>\n",
              "      <td>0.0</td>\n",
              "      <td>0.0</td>\n",
              "      <td>0.5</td>\n",
              "      <td>50.0</td>\n",
              "      <td>0.507179</td>\n",
              "      <td>0.0</td>\n",
              "      <td>0.0</td>\n",
              "      <td>0.0</td>\n",
              "    </tr>\n",
              "    <tr>\n",
              "      <th>3</th>\n",
              "      <td>99.725243</td>\n",
              "      <td>96.966246</td>\n",
              "      <td>98.345745</td>\n",
              "      <td>-0.001077</td>\n",
              "      <td>-0.016415</td>\n",
              "      <td>-0.008698</td>\n",
              "      <td>100.0</td>\n",
              "      <td>0.0</td>\n",
              "      <td>0.5</td>\n",
              "      <td>50.0</td>\n",
              "      <td>0.501378</td>\n",
              "      <td>0.0</td>\n",
              "      <td>0.0</td>\n",
              "      <td>0.0</td>\n",
              "      <td>0.5</td>\n",
              "      <td>50.0</td>\n",
              "      <td>0.515643</td>\n",
              "      <td>0.0</td>\n",
              "      <td>0.0</td>\n",
              "      <td>0.0</td>\n",
              "    </tr>\n",
              "    <tr>\n",
              "      <th>4</th>\n",
              "      <td>100.851526</td>\n",
              "      <td>98.542665</td>\n",
              "      <td>99.697095</td>\n",
              "      <td>0.011294</td>\n",
              "      <td>0.016257</td>\n",
              "      <td>0.013741</td>\n",
              "      <td>100.0</td>\n",
              "      <td>0.0</td>\n",
              "      <td>0.5</td>\n",
              "      <td>50.0</td>\n",
              "      <td>0.495778</td>\n",
              "      <td>0.0</td>\n",
              "      <td>0.0</td>\n",
              "      <td>0.0</td>\n",
              "      <td>0.5</td>\n",
              "      <td>50.0</td>\n",
              "      <td>0.507394</td>\n",
              "      <td>0.0</td>\n",
              "      <td>0.0</td>\n",
              "      <td>0.0</td>\n",
              "    </tr>\n",
              "    <tr>\n",
              "      <th>...</th>\n",
              "      <td>...</td>\n",
              "      <td>...</td>\n",
              "      <td>...</td>\n",
              "      <td>...</td>\n",
              "      <td>...</td>\n",
              "      <td>...</td>\n",
              "      <td>...</td>\n",
              "      <td>...</td>\n",
              "      <td>...</td>\n",
              "      <td>...</td>\n",
              "      <td>...</td>\n",
              "      <td>...</td>\n",
              "      <td>...</td>\n",
              "      <td>...</td>\n",
              "      <td>...</td>\n",
              "      <td>...</td>\n",
              "      <td>...</td>\n",
              "      <td>...</td>\n",
              "      <td>...</td>\n",
              "      <td>...</td>\n",
              "    </tr>\n",
              "    <tr>\n",
              "      <th>247</th>\n",
              "      <td>111.628553</td>\n",
              "      <td>81.525918</td>\n",
              "      <td>96.577236</td>\n",
              "      <td>-0.025213</td>\n",
              "      <td>-0.019906</td>\n",
              "      <td>-0.022980</td>\n",
              "      <td>100.0</td>\n",
              "      <td>0.0</td>\n",
              "      <td>0.5</td>\n",
              "      <td>50.0</td>\n",
              "      <td>0.447914</td>\n",
              "      <td>0.0</td>\n",
              "      <td>0.0</td>\n",
              "      <td>0.0</td>\n",
              "      <td>0.5</td>\n",
              "      <td>50.0</td>\n",
              "      <td>0.613302</td>\n",
              "      <td>0.0</td>\n",
              "      <td>0.0</td>\n",
              "      <td>0.0</td>\n",
              "    </tr>\n",
              "    <tr>\n",
              "      <th>248</th>\n",
              "      <td>118.005378</td>\n",
              "      <td>84.490540</td>\n",
              "      <td>101.247959</td>\n",
              "      <td>0.057125</td>\n",
              "      <td>0.036364</td>\n",
              "      <td>0.048363</td>\n",
              "      <td>100.0</td>\n",
              "      <td>0.0</td>\n",
              "      <td>0.5</td>\n",
              "      <td>50.0</td>\n",
              "      <td>0.423710</td>\n",
              "      <td>0.0</td>\n",
              "      <td>0.0</td>\n",
              "      <td>0.0</td>\n",
              "      <td>0.5</td>\n",
              "      <td>50.0</td>\n",
              "      <td>0.591782</td>\n",
              "      <td>0.0</td>\n",
              "      <td>0.0</td>\n",
              "      <td>0.0</td>\n",
              "    </tr>\n",
              "    <tr>\n",
              "      <th>249</th>\n",
              "      <td>114.135848</td>\n",
              "      <td>83.145010</td>\n",
              "      <td>98.640429</td>\n",
              "      <td>-0.032791</td>\n",
              "      <td>-0.015925</td>\n",
              "      <td>-0.025754</td>\n",
              "      <td>100.0</td>\n",
              "      <td>0.0</td>\n",
              "      <td>0.5</td>\n",
              "      <td>50.0</td>\n",
              "      <td>0.438074</td>\n",
              "      <td>0.0</td>\n",
              "      <td>0.0</td>\n",
              "      <td>0.0</td>\n",
              "      <td>0.5</td>\n",
              "      <td>50.0</td>\n",
              "      <td>0.601359</td>\n",
              "      <td>0.0</td>\n",
              "      <td>0.0</td>\n",
              "      <td>0.0</td>\n",
              "    </tr>\n",
              "    <tr>\n",
              "      <th>250</th>\n",
              "      <td>116.017593</td>\n",
              "      <td>85.808854</td>\n",
              "      <td>100.913224</td>\n",
              "      <td>0.016487</td>\n",
              "      <td>0.032039</td>\n",
              "      <td>0.023041</td>\n",
              "      <td>100.0</td>\n",
              "      <td>0.0</td>\n",
              "      <td>0.5</td>\n",
              "      <td>50.0</td>\n",
              "      <td>0.430969</td>\n",
              "      <td>0.0</td>\n",
              "      <td>0.0</td>\n",
              "      <td>0.0</td>\n",
              "      <td>0.5</td>\n",
              "      <td>50.0</td>\n",
              "      <td>0.582690</td>\n",
              "      <td>0.0</td>\n",
              "      <td>0.0</td>\n",
              "      <td>0.0</td>\n",
              "    </tr>\n",
              "    <tr>\n",
              "      <th>251</th>\n",
              "      <td>112.302066</td>\n",
              "      <td>82.928796</td>\n",
              "      <td>97.615431</td>\n",
              "      <td>-0.032026</td>\n",
              "      <td>-0.033564</td>\n",
              "      <td>-0.032679</td>\n",
              "      <td>100.0</td>\n",
              "      <td>0.0</td>\n",
              "      <td>0.5</td>\n",
              "      <td>50.0</td>\n",
              "      <td>0.445228</td>\n",
              "      <td>0.0</td>\n",
              "      <td>0.0</td>\n",
              "      <td>0.0</td>\n",
              "      <td>0.5</td>\n",
              "      <td>50.0</td>\n",
              "      <td>0.602927</td>\n",
              "      <td>0.0</td>\n",
              "      <td>0.0</td>\n",
              "      <td>0.0</td>\n",
              "    </tr>\n",
              "  </tbody>\n",
              "</table>\n",
              "<p>252 rows × 20 columns</p>\n",
              "</div>\n",
              "      <button class=\"colab-df-convert\" onclick=\"convertToInteractive('df-20b199e6-915f-4937-a66d-c4fd6dbf9bd3')\"\n",
              "              title=\"Convert this dataframe to an interactive table.\"\n",
              "              style=\"display:none;\">\n",
              "        \n",
              "  <svg xmlns=\"http://www.w3.org/2000/svg\" height=\"24px\"viewBox=\"0 0 24 24\"\n",
              "       width=\"24px\">\n",
              "    <path d=\"M0 0h24v24H0V0z\" fill=\"none\"/>\n",
              "    <path d=\"M18.56 5.44l.94 2.06.94-2.06 2.06-.94-2.06-.94-.94-2.06-.94 2.06-2.06.94zm-11 1L8.5 8.5l.94-2.06 2.06-.94-2.06-.94L8.5 2.5l-.94 2.06-2.06.94zm10 10l.94 2.06.94-2.06 2.06-.94-2.06-.94-.94-2.06-.94 2.06-2.06.94z\"/><path d=\"M17.41 7.96l-1.37-1.37c-.4-.4-.92-.59-1.43-.59-.52 0-1.04.2-1.43.59L10.3 9.45l-7.72 7.72c-.78.78-.78 2.05 0 2.83L4 21.41c.39.39.9.59 1.41.59.51 0 1.02-.2 1.41-.59l7.78-7.78 2.81-2.81c.8-.78.8-2.07 0-2.86zM5.41 20L4 18.59l7.72-7.72 1.47 1.35L5.41 20z\"/>\n",
              "  </svg>\n",
              "      </button>\n",
              "      \n",
              "  <style>\n",
              "    .colab-df-container {\n",
              "      display:flex;\n",
              "      flex-wrap:wrap;\n",
              "      gap: 12px;\n",
              "    }\n",
              "\n",
              "    .colab-df-convert {\n",
              "      background-color: #E8F0FE;\n",
              "      border: none;\n",
              "      border-radius: 50%;\n",
              "      cursor: pointer;\n",
              "      display: none;\n",
              "      fill: #1967D2;\n",
              "      height: 32px;\n",
              "      padding: 0 0 0 0;\n",
              "      width: 32px;\n",
              "    }\n",
              "\n",
              "    .colab-df-convert:hover {\n",
              "      background-color: #E2EBFA;\n",
              "      box-shadow: 0px 1px 2px rgba(60, 64, 67, 0.3), 0px 1px 3px 1px rgba(60, 64, 67, 0.15);\n",
              "      fill: #174EA6;\n",
              "    }\n",
              "\n",
              "    [theme=dark] .colab-df-convert {\n",
              "      background-color: #3B4455;\n",
              "      fill: #D2E3FC;\n",
              "    }\n",
              "\n",
              "    [theme=dark] .colab-df-convert:hover {\n",
              "      background-color: #434B5C;\n",
              "      box-shadow: 0px 1px 3px 1px rgba(0, 0, 0, 0.15);\n",
              "      filter: drop-shadow(0px 1px 2px rgba(0, 0, 0, 0.3));\n",
              "      fill: #FFFFFF;\n",
              "    }\n",
              "  </style>\n",
              "\n",
              "      <script>\n",
              "        const buttonEl =\n",
              "          document.querySelector('#df-20b199e6-915f-4937-a66d-c4fd6dbf9bd3 button.colab-df-convert');\n",
              "        buttonEl.style.display =\n",
              "          google.colab.kernel.accessAllowed ? 'block' : 'none';\n",
              "\n",
              "        async function convertToInteractive(key) {\n",
              "          const element = document.querySelector('#df-20b199e6-915f-4937-a66d-c4fd6dbf9bd3');\n",
              "          const dataTable =\n",
              "            await google.colab.kernel.invokeFunction('convertToInteractive',\n",
              "                                                     [key], {});\n",
              "          if (!dataTable) return;\n",
              "\n",
              "          const docLinkHtml = 'Like what you see? Visit the ' +\n",
              "            '<a target=\"_blank\" href=https://colab.research.google.com/notebooks/data_table.ipynb>data table notebook</a>'\n",
              "            + ' to learn more about interactive tables.';\n",
              "          element.innerHTML = '';\n",
              "          dataTable['output_type'] = 'display_data';\n",
              "          await google.colab.output.renderOutput(dataTable, element);\n",
              "          const docLink = document.createElement('div');\n",
              "          docLink.innerHTML = docLinkHtml;\n",
              "          element.appendChild(docLink);\n",
              "        }\n",
              "      </script>\n",
              "    </div>\n",
              "  </div>\n",
              "  "
            ]
          },
          "metadata": {},
          "execution_count": 48
        }
      ]
    },
    {
      "cell_type": "code",
      "source": [
        "for stock in STOCK_TICKERS:\n",
        "  print(weights[stock])"
      ],
      "metadata": {
        "id": "dpFSyjr84k2o",
        "outputId": "c968cb4c-b35f-42dc-b192-08aa06f767e3",
        "colab": {
          "base_uri": "https://localhost:8080/"
        }
      },
      "execution_count": 32,
      "outputs": [
        {
          "output_type": "stream",
          "name": "stdout",
          "text": [
            "0.5\n",
            "0.5\n"
          ]
        }
      ]
    },
    {
      "cell_type": "code",
      "source": [
        "stock_data['AAPL']['Vol'] / sqrt(252)"
      ],
      "metadata": {
        "id": "kmsqCUe5p9f9",
        "outputId": "eef8ac25-9887-4a48-f41c-178defc095cb",
        "colab": {
          "base_uri": "https://localhost:8080/"
        }
      },
      "execution_count": 42,
      "outputs": [
        {
          "output_type": "execute_result",
          "data": {
            "text/plain": [
              "0.02519763153394848"
            ]
          },
          "metadata": {},
          "execution_count": 42
        }
      ]
    },
    {
      "cell_type": "code",
      "source": [
        "data = {'toto':[1,2], 'tata':[3,4]}\n",
        "dft = pd.DataFrame(data)\n",
        "for i in range(len(dft)):\n",
        "  print(dft['tata'].iloc[i])"
      ],
      "metadata": {
        "id": "miPFkySjomuV",
        "outputId": "f9822bbb-fb33-4864-9278-472ed4a06663",
        "colab": {
          "base_uri": "https://localhost:8080/"
        }
      },
      "execution_count": 33,
      "outputs": [
        {
          "output_type": "stream",
          "name": "stdout",
          "text": [
            "3\n",
            "4\n"
          ]
        }
      ]
    }
  ],
  "metadata": {
    "kernelspec": {
      "display_name": "Python 3",
      "language": "python",
      "name": "python3"
    },
    "language_info": {
      "codemirror_mode": {
        "name": "ipython",
        "version": 3
      },
      "file_extension": ".py",
      "mimetype": "text/x-python",
      "name": "python",
      "nbconvert_exporter": "python",
      "pygments_lexer": "ipython3",
      "version": "3.8.3"
    },
    "colab": {
      "provenance": [],
      "include_colab_link": true
    }
  },
  "nbformat": 4,
  "nbformat_minor": 0
}